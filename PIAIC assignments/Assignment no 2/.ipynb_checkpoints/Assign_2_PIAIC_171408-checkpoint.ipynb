{
 "cells": [
  {
   "cell_type": "markdown",
   "id": "2a3fb16f",
   "metadata": {},
   "source": [
    "## Assignment no 2\n",
    "### PIAIC: 171408"
   ]
  },
  {
   "cell_type": "markdown",
   "id": "7c2e23c9",
   "metadata": {},
   "source": [
    "### Task 1:\n",
    "### 1. import mother and father attribute\n",
    "### 2. add two new attributes in the child constructor"
   ]
  },
  {
   "cell_type": "code",
   "execution_count": 31,
   "id": "a40a39cd",
   "metadata": {},
   "outputs": [
    {
     "name": "stdout",
     "output_type": "stream",
     "text": [
      "['child_fname', 'child_info', 'child_lname', 'fage', 'father_info', 'ffname', 'flname', 'mage', 'mfname', 'mlname', 'mother_info']\n"
     ]
    }
   ],
   "source": [
    "class Father():\n",
    "    def __init__(self):\n",
    "        self.ffname = 'Muhammad'\n",
    "        self.flname = 'Azam'\n",
    "        self.fage = 50\n",
    "        \n",
    "    def father_info(self):\n",
    "        print(f'''My father name is {self.ffname} {self.flname} and he is {self.fage} years old''')\n",
    "    \n",
    "    \n",
    "class Mother():\n",
    "    def __init__(self):\n",
    "        self.mfname = 'etc'\n",
    "        self.mlname = 'etc'\n",
    "        self.mage = 50\n",
    "        \n",
    "    def mother_info(self):\n",
    "        print(f'''My father name is {self.mfname} {self.mlname} and she is {self.mage} years old''')\n",
    "    \n",
    "    \n",
    "class Child(Father, Mother):\n",
    "    def __init__(self):\n",
    "        self.child_fname = 'Usama'\n",
    "        self.child_lname = 'Rehman'\n",
    "        Father.__init__(self)\n",
    "        Mother.__init__(self)     \n",
    "        \n",
    "\n",
    "    def child_info():\n",
    "        print(f'''My father name is {self.child_fname} {self.child_lname}.''')\n",
    "        \n",
    "        \n",
    "c1 = Child()\n",
    "print([i for i in dir(c1) if \"__\" not in i])"
   ]
  },
  {
   "cell_type": "markdown",
   "id": "f9e289f9",
   "metadata": {},
   "source": [
    "### Task 2:\n",
    "### Create operator overloading"
   ]
  },
  {
   "cell_type": "code",
   "execution_count": 37,
   "id": "9db935e0",
   "metadata": {},
   "outputs": [
    {
     "name": "stdout",
     "output_type": "stream",
     "text": [
      "object1 is less than object2\n",
      "\n",
      "Not equal\n"
     ]
    }
   ],
   "source": [
    "class A:\n",
    "    def __init__(self, a):\n",
    "        self.a = a\n",
    "    def __lt__(self, other):\n",
    "        if(self.a<other.a):\n",
    "            return \"object1 is less than object2\"\n",
    "        else:\n",
    "            return \"object2 is less than object1\"\n",
    "    def __eq__(self, other):\n",
    "        if(self.a == other.a):\n",
    "            return \"Both are equal\"\n",
    "        else:\n",
    "            return \"Not equal\"\n",
    "                 \n",
    "ob1 = A(2)\n",
    "ob2 = A(3)\n",
    "print(ob1 < ob2)\n",
    "print()\n",
    "ob3 = A(4)\n",
    "ob4 = A(4)\n",
    "print(ob1 == ob2)"
   ]
  },
  {
   "cell_type": "code",
   "execution_count": 36,
   "id": "4c152430",
   "metadata": {},
   "outputs": [
    {
     "name": "stdout",
     "output_type": "stream",
     "text": [
      "Coordinates are: 100 , 120\n"
     ]
    }
   ],
   "source": [
    "class Coordinates: \n",
    "    def __init__(self, a,b): \n",
    "        self.a = a \n",
    "        self.b=b\n",
    "  \n",
    "    # adding two objects  \n",
    "    def __add__(self, o):\n",
    "        a=self.a+o.a\n",
    "        b=self.b+o.b\n",
    "        s3=Coordinates(a,b)\n",
    "        return s3\n",
    "    \n",
    "    def get_info(self):\n",
    "        print(f'''Coordinates are: {self.a} , {self.b}''')\n",
    "p1=Coordinates(30,40)\n",
    "p2=Coordinates(70,80)\n",
    "s3=p1+p2\n",
    "\n",
    "s3.get_info()\n",
    "\n"
   ]
  },
  {
   "cell_type": "code",
   "execution_count": null,
   "id": "d389ab5c",
   "metadata": {},
   "outputs": [],
   "source": []
  }
 ],
 "metadata": {
  "kernelspec": {
   "display_name": "Python 3 (ipykernel)",
   "language": "python",
   "name": "python3"
  },
  "language_info": {
   "codemirror_mode": {
    "name": "ipython",
    "version": 3
   },
   "file_extension": ".py",
   "mimetype": "text/x-python",
   "name": "python",
   "nbconvert_exporter": "python",
   "pygments_lexer": "ipython3",
   "version": "3.9.12"
  }
 },
 "nbformat": 4,
 "nbformat_minor": 5
}
